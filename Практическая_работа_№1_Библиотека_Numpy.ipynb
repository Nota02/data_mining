{
  "nbformat": 4,
  "nbformat_minor": 0,
  "metadata": {
    "colab": {
      "provenance": []
    },
    "kernelspec": {
      "name": "python3",
      "display_name": "Python 3"
    },
    "language_info": {
      "name": "python"
    }
  },
  "cells": [
    {
      "cell_type": "markdown",
      "metadata": {
        "id": "view-in-github"
      },
      "source": [
        "<a href=\"https://colab.research.google.com/github/Alexandre77777/computer_math/blob/main/2.%20%D0%91%D0%B8%D0%B1%D0%BB%D0%B8%D0%BE%D1%82%D0%B5%D0%BA%D0%B0%20Numpy/%D0%9F%D1%80%D0%B0%D0%BA%D1%82%D0%B8%D1%87%D0%B5%D1%81%D0%BA%D0%B0%D1%8F_%D1%80%D0%B0%D0%B1%D0%BE%D1%82%D0%B0_%E2%84%962_%D0%91%D0%B8%D0%B1%D0%BB%D0%B8%D0%BE%D1%82%D0%B5%D0%BA%D0%B0_Numpy.ipynb\" target=\"_parent\"><img src=\"https://colab.research.google.com/assets/colab-badge.svg\" alt=\"Open In Colab\"/></a>"
      ]
    },
    {
      "cell_type": "markdown",
      "source": [
        "# Практическая работа №2. Библиотека Numpy"
      ],
      "metadata": {
        "id": "UWwDMeEJKRm-"
      }
    },
    {
      "cell_type": "markdown",
      "source": [
        "## Полезные материалы\n",
        "- [Блокнот с полной теорией](https://colab.research.google.com/drive/1JlqwrIRsmnc9rW6Tj1XNgrtk--43dKvT?usp=sharing)\n",
        "- [Блокнот с краткой теорией](https://colab.research.google.com/drive/1elIYEseXIidm5UUXnjgzWUehisw_OQ0w?usp=sharing)\n",
        "- [Шпаргалка по numpy](https://s3.amazonaws.com/assets.datacamp.com/blog_assets/Numpy_Python_Cheat_Sheet.pdf)\n",
        "- [Numpy quick start](https://docs.scipy.org/doc/numpy/user/quickstart.html)\n",
        "- [Datacamp numpy tutorial](https://www.datacamp.com/community/tutorials/python-numpy-tutorial)"
      ],
      "metadata": {
        "id": "9jGLF6idKPrn"
      }
    },
    {
      "cell_type": "markdown",
      "source": [
        "## **Блок №1. Базовый уровень**"
      ],
      "metadata": {
        "id": "mVaRu-_wJJYV"
      }
    },
    {
      "cell_type": "markdown",
      "source": [
        "Установите зависимость с библиотекой NumPy:"
      ],
      "metadata": {
        "id": "gAEs6SaMMmzx"
      }
    },
    {
      "cell_type": "code",
      "source": [
        "# Ваш код\n",
        "import numpy as np"
      ],
      "metadata": {
        "id": "GqZb9OydMn0V"
      },
      "execution_count": null,
      "outputs": []
    },
    {
      "cell_type": "markdown",
      "source": [
        "### **Задание №1. Создание массивов:**"
      ],
      "metadata": {
        "id": "JK4lWYl2OAKA"
      }
    },
    {
      "cell_type": "markdown",
      "source": [
        "а) Создайте одномерный массив из 10 нулей:\n"
      ],
      "metadata": {
        "id": "tlxGmZzNN_B3"
      }
    },
    {
      "cell_type": "code",
      "source": [
        "# Ваш код\n",
        "zeros_array = np.zeros(10)\n",
        "print(zeros_array)"
      ],
      "metadata": {
        "id": "_dv6zFBzN_PH",
        "colab": {
          "base_uri": "https://localhost:8080/"
        },
        "outputId": "3bd1cf00-c182-4b90-934e-30b223cd1ff1"
      },
      "execution_count": null,
      "outputs": [
        {
          "output_type": "stream",
          "name": "stdout",
          "text": [
            "[0. 0. 0. 0. 0. 0. 0. 0. 0. 0.]\n"
          ]
        }
      ]
    },
    {
      "cell_type": "markdown",
      "source": [
        "б) Создайте двумерный массив с размерностью 5x5, заполненный единицами:"
      ],
      "metadata": {
        "id": "lE5txzg1N_YO"
      }
    },
    {
      "cell_type": "code",
      "source": [
        "# Ваш код\n",
        "ones_array = np.ones((5, 5))\n",
        "print(ones_array)"
      ],
      "metadata": {
        "id": "TCCsY7EJN_hY",
        "colab": {
          "base_uri": "https://localhost:8080/"
        },
        "outputId": "399ed6d5-a7f3-4180-a977-69a2e296cde4"
      },
      "execution_count": null,
      "outputs": [
        {
          "output_type": "stream",
          "name": "stdout",
          "text": [
            "[[1. 1. 1. 1. 1.]\n",
            " [1. 1. 1. 1. 1.]\n",
            " [1. 1. 1. 1. 1.]\n",
            " [1. 1. 1. 1. 1.]\n",
            " [1. 1. 1. 1. 1.]]\n"
          ]
        }
      ]
    },
    {
      "cell_type": "markdown",
      "source": [
        "в) Создайте массив с размерностью 3x3x3 со случайными значениями:"
      ],
      "metadata": {
        "id": "ewdOYjTSN_p-"
      }
    },
    {
      "cell_type": "code",
      "source": [
        "# Ваш код\n",
        "random_array = np.random.rand(3, 3, 3)\n",
        "print(random_array)"
      ],
      "metadata": {
        "id": "UT2FWQ8jN_zE",
        "colab": {
          "base_uri": "https://localhost:8080/"
        },
        "outputId": "398c73a9-4d9a-4fe3-cc34-7718dd817a41"
      },
      "execution_count": null,
      "outputs": [
        {
          "output_type": "stream",
          "name": "stdout",
          "text": [
            "[[[0.90592022 0.21941803 0.15994023]\n",
            "  [0.12476883 0.66007795 0.93184598]\n",
            "  [0.90332426 0.603945   0.62116246]]\n",
            "\n",
            " [[0.90515167 0.70566035 0.30449171]\n",
            "  [0.20062239 0.28558011 0.89835936]\n",
            "  [0.461059   0.9766499  0.03873918]]\n",
            "\n",
            " [[0.83459246 0.46620296 0.53082342]\n",
            "  [0.05435844 0.55660593 0.22374043]\n",
            "  [0.83196173 0.89482592 0.39344318]]]\n"
          ]
        }
      ]
    },
    {
      "cell_type": "markdown",
      "source": [
        "### **Задание №2. Индексация и срезы:**"
      ],
      "metadata": {
        "id": "tU02ZhoCTWlS"
      }
    },
    {
      "cell_type": "markdown",
      "source": [
        "а) Извлеките второй элемент из созданного одномерного массива нулей:"
      ],
      "metadata": {
        "id": "28eFhkdPTXHL"
      }
    },
    {
      "cell_type": "code",
      "source": [
        "# Ваш код\n",
        "second_el = zeros_array[1]\n",
        "print(second_el)"
      ],
      "metadata": {
        "id": "nwpFpMOMTXP5",
        "colab": {
          "base_uri": "https://localhost:8080/"
        },
        "outputId": "e8f3192d-d29e-4612-8381-d9044a4dd355"
      },
      "execution_count": null,
      "outputs": [
        {
          "output_type": "stream",
          "name": "stdout",
          "text": [
            "0.0\n"
          ]
        }
      ]
    },
    {
      "cell_type": "markdown",
      "source": [
        "б) Выберите вторую строку из двумерного массива единиц:"
      ],
      "metadata": {
        "id": "8WHTy4tBTXZP"
      }
    },
    {
      "cell_type": "code",
      "source": [
        "# Ваш код\n",
        "second_row = ones_array[1]\n",
        "print(second_row)"
      ],
      "metadata": {
        "id": "V1P2NYcCTXhm",
        "colab": {
          "base_uri": "https://localhost:8080/"
        },
        "outputId": "ff07b18d-ee44-4025-97eb-999bb744c0db"
      },
      "execution_count": null,
      "outputs": [
        {
          "output_type": "stream",
          "name": "stdout",
          "text": [
            "[1. 1. 1. 1. 1.]\n"
          ]
        }
      ]
    },
    {
      "cell_type": "markdown",
      "source": [
        "в) Получите первые два элемента каждой строки из двумерного массива единиц:"
      ],
      "metadata": {
        "id": "5KgLWq-dTXqb"
      }
    },
    {
      "cell_type": "code",
      "source": [
        "# Ваш код\n",
        "first_two_elements = ones_array[:, :2]\n",
        "print(first_two_elements)"
      ],
      "metadata": {
        "id": "4WcPrgnPTXzU",
        "colab": {
          "base_uri": "https://localhost:8080/"
        },
        "outputId": "d494076f-c471-4a66-c46a-d6b84543c59b"
      },
      "execution_count": null,
      "outputs": [
        {
          "output_type": "stream",
          "name": "stdout",
          "text": [
            "[[1. 1.]\n",
            " [1. 1.]\n",
            " [1. 1.]\n",
            " [1. 1.]\n",
            " [1. 1.]]\n"
          ]
        }
      ]
    },
    {
      "cell_type": "markdown",
      "source": [
        "### **Задание №3. Операции над массивами:**"
      ],
      "metadata": {
        "id": "FgQeTh6HT0IS"
      }
    },
    {
      "cell_type": "markdown",
      "source": [
        "   а) Прибавьте 10 ко всем элементам одномерного массива нулей:\n"
      ],
      "metadata": {
        "id": "F82FPZACT5oN"
      }
    },
    {
      "cell_type": "code",
      "source": [
        "# Ваш код\n",
        "tens_array = zeros_array + 10\n",
        "print(tens_array)"
      ],
      "metadata": {
        "id": "m9fI1QqDT0Rt",
        "colab": {
          "base_uri": "https://localhost:8080/"
        },
        "outputId": "21d4c490-4412-46b6-bc91-894797280ab6"
      },
      "execution_count": null,
      "outputs": [
        {
          "output_type": "stream",
          "name": "stdout",
          "text": [
            "[10. 10. 10. 10. 10. 10. 10. 10. 10. 10.]\n"
          ]
        }
      ]
    },
    {
      "cell_type": "markdown",
      "source": [
        "   б) Умножьте каждый элемент двумерного массива единиц на 3:\n"
      ],
      "metadata": {
        "id": "gpQNryfsT0cG"
      }
    },
    {
      "cell_type": "code",
      "source": [
        "# Ваш код\n",
        "threes_array = ones_array * 3\n",
        "print(threes_array)"
      ],
      "metadata": {
        "id": "R12ZIAB2T0uf",
        "colab": {
          "base_uri": "https://localhost:8080/"
        },
        "outputId": "870e2127-3796-4a67-b6cf-f3a405863051"
      },
      "execution_count": null,
      "outputs": [
        {
          "output_type": "stream",
          "name": "stdout",
          "text": [
            "[[3. 3. 3. 3. 3.]\n",
            " [3. 3. 3. 3. 3.]\n",
            " [3. 3. 3. 3. 3.]\n",
            " [3. 3. 3. 3. 3.]\n",
            " [3. 3. 3. 3. 3.]]\n"
          ]
        }
      ]
    },
    {
      "cell_type": "markdown",
      "source": [
        "   в) Вычислите сумму всех элементов в массиве 3x3x3 со случайными значениями:"
      ],
      "metadata": {
        "id": "8SqSUA7WT04G"
      }
    },
    {
      "cell_type": "code",
      "source": [
        "# Ваш код\n",
        "total_sum = np.sum(random_array)\n",
        "print(total_sum)"
      ],
      "metadata": {
        "id": "kaeUhPVwT1CH",
        "colab": {
          "base_uri": "https://localhost:8080/"
        },
        "outputId": "75089822-bf72-4c6d-f751-304633d71600"
      },
      "execution_count": null,
      "outputs": [
        {
          "output_type": "stream",
          "name": "stdout",
          "text": [
            "14.693271091927071\n"
          ]
        }
      ]
    },
    {
      "cell_type": "markdown",
      "source": [
        "### **Задание №4. Использование функций и методов NumPy:**\n"
      ],
      "metadata": {
        "id": "HXn8PQr9T1NU"
      }
    },
    {
      "cell_type": "markdown",
      "source": [
        "   а) Найдите максимальное и минимальное значения в массиве 3x3x3:\n"
      ],
      "metadata": {
        "id": "oaxWxrQRUkEU"
      }
    },
    {
      "cell_type": "code",
      "source": [
        "# Ваш код\n",
        "max_value = np.max(random_array)\n",
        "min_value = np.min(random_array)\n",
        "\n",
        "print(\"Макс:\", max_value)\n",
        "print(\"Мин\", min_value)"
      ],
      "metadata": {
        "id": "PERZ4zSHUldF",
        "colab": {
          "base_uri": "https://localhost:8080/"
        },
        "outputId": "02ba4d27-bccd-4b6e-ca62-80d4654258dc"
      },
      "execution_count": null,
      "outputs": [
        {
          "output_type": "stream",
          "name": "stdout",
          "text": [
            "Макс: 0.9766498971970131\n",
            "Мин 0.0387391782740546\n"
          ]
        }
      ]
    },
    {
      "cell_type": "markdown",
      "source": [
        "   б) Вычислите среднее значение всех элементов в одномерном массиве нулей после добавления к ним числа 10:\n"
      ],
      "metadata": {
        "id": "EayPENXwUlms"
      }
    },
    {
      "cell_type": "code",
      "source": [
        "# Ваш код\n",
        "mean_value = np.mean(tens_array)\n",
        "print(mean_value)"
      ],
      "metadata": {
        "id": "iJNG1XfCUlzN",
        "colab": {
          "base_uri": "https://localhost:8080/"
        },
        "outputId": "27fdd7d4-9050-4dc4-fa39-b4eb3feaa797"
      },
      "execution_count": null,
      "outputs": [
        {
          "output_type": "stream",
          "name": "stdout",
          "text": [
            "10.0\n"
          ]
        }
      ]
    },
    {
      "cell_type": "markdown",
      "source": [
        "   в) Используйте функцию `np.reshape` для изменения формы одномерного массива нулей в двумерный массив 2x5:"
      ],
      "metadata": {
        "id": "3z_yaICNUl7R"
      }
    },
    {
      "cell_type": "code",
      "source": [
        "# Ваш код\n",
        "reshaped_array = np.reshape(zeros_array, (2, 5))\n",
        "print(reshaped_array)"
      ],
      "metadata": {
        "id": "ioynkOn4T1XS",
        "colab": {
          "base_uri": "https://localhost:8080/"
        },
        "outputId": "b0563350-bdc5-473b-cde7-6be0b12c46e8"
      },
      "execution_count": null,
      "outputs": [
        {
          "output_type": "stream",
          "name": "stdout",
          "text": [
            "[[0. 0. 0. 0. 0.]\n",
            " [0. 0. 0. 0. 0.]]\n"
          ]
        }
      ]
    },
    {
      "cell_type": "markdown",
      "source": [
        "### **Задание №5. Логическая индексация:**"
      ],
      "metadata": {
        "id": "helc8jP2XVZx"
      }
    },
    {
      "cell_type": "markdown",
      "source": [
        "а) Создайте двумерный массив 4x4 со случайными целыми числами от 0 до 100. Затем выберите из этого массива все элементы, которые больше 70:"
      ],
      "metadata": {
        "id": "p6zDSpnvXlz9"
      }
    },
    {
      "cell_type": "code",
      "source": [
        "# Ваш код\n",
        "random_array = np.random.randint(0, 101, size=(4, 4))\n",
        "required_elements = random_array[random_array > 70]\n",
        "\n",
        "print(\"Двумерный массив 4x4 со случайными целыми числами:\\n\", random_array)\n",
        "print(\"Элементы, которые больше 70:\\n\", required_elements)"
      ],
      "metadata": {
        "id": "93u2gqeqXlQP",
        "colab": {
          "base_uri": "https://localhost:8080/"
        },
        "outputId": "72485867-7f1f-48d9-b26f-600525611a66"
      },
      "execution_count": null,
      "outputs": [
        {
          "output_type": "stream",
          "name": "stdout",
          "text": [
            "Двумерный массив 4x4 со случайными целыми числами:\n",
            " [[90 35 91 21]\n",
            " [ 7 96 97 91]\n",
            " [52 37 36 23]\n",
            " [51 19 59 41]]\n",
            "Элементы, которые больше 70:\n",
            " [90 91 96 97 91]\n"
          ]
        }
      ]
    },
    {
      "cell_type": "markdown",
      "source": [
        "б) Значения элементов, которые меньше 50, замените на 0:"
      ],
      "metadata": {
        "id": "l1i_sIHzXn5W"
      }
    },
    {
      "cell_type": "code",
      "source": [
        "# Ваш код\n",
        "random_array[random_array < 50] = 0\n",
        "print(random_array)"
      ],
      "metadata": {
        "id": "iWzeoWw1Xhxw",
        "colab": {
          "base_uri": "https://localhost:8080/"
        },
        "outputId": "a091f71f-4192-4ad9-bed9-4f49b31f6c5d"
      },
      "execution_count": null,
      "outputs": [
        {
          "output_type": "stream",
          "name": "stdout",
          "text": [
            "[[90  0 91  0]\n",
            " [ 0 96 97 91]\n",
            " [52  0  0  0]\n",
            " [51  0 59  0]]\n"
          ]
        }
      ]
    },
    {
      "cell_type": "markdown",
      "source": [
        "### **Задание №6. Линейная алгебра:**"
      ],
      "metadata": {
        "id": "NJ1lWy6-N5m_"
      }
    },
    {
      "cell_type": "markdown",
      "source": [
        "   а) Создайте два массива размером 3x3 и выполните их матричное умножение:\n"
      ],
      "metadata": {
        "id": "jaQIn50xLamu"
      }
    },
    {
      "cell_type": "code",
      "source": [
        "# Ваш код\n",
        "f = np.random.randint(0, 101, (3, 3))\n",
        "s = np.random.randint(0, 101, (3, 3))\n",
        "prod = np.dot(f, s)\n",
        "print('Первый массив:\\n',f)\n",
        "print('Второй массив:\\n',s)\n",
        "print('Произведение:\\n', prod)"
      ],
      "metadata": {
        "id": "g6eIJi9gLZpP",
        "colab": {
          "base_uri": "https://localhost:8080/"
        },
        "outputId": "bb5ed947-f44a-4032-d240-85523b0e64e3"
      },
      "execution_count": null,
      "outputs": [
        {
          "output_type": "stream",
          "name": "stdout",
          "text": [
            "Первый массив:\n",
            " [[64  6 44]\n",
            " [20 85 92]\n",
            " [76 26 73]]\n",
            "Второй массив:\n",
            " [[66 19 85]\n",
            " [87 42 20]\n",
            " [61 74 28]]\n",
            "Произведение:\n",
            " [[ 7430  4724  6792]\n",
            " [14327 10758  5976]\n",
            " [11731  7938  9024]]\n"
          ]
        }
      ]
    },
    {
      "cell_type": "markdown",
      "source": [
        "   б) Найдите обратную матрицу для созданного двумерного массива 3x3:"
      ],
      "metadata": {
        "id": "sU9iKaD4LZ9y"
      }
    },
    {
      "cell_type": "code",
      "execution_count": null,
      "metadata": {
        "id": "FOvGFepkJEcl",
        "colab": {
          "base_uri": "https://localhost:8080/"
        },
        "outputId": "dca731bf-f02d-403f-bc73-6cb0d26fe90c"
      },
      "outputs": [
        {
          "output_type": "stream",
          "name": "stdout",
          "text": [
            "[[ 0.24035552  0.04450328 -0.20095814]\n",
            " [ 0.34871407  0.08371155 -0.31568331]\n",
            " [-0.37443268 -0.07614725  0.33535048]]\n"
          ]
        }
      ],
      "source": [
        "# Ваш код\n",
        "inverse_matrix = np.linalg.inv(f)\n",
        "print(inverse_matrix)"
      ]
    },
    {
      "cell_type": "markdown",
      "source": [
        "## **Блок №2. Средний уровень**"
      ],
      "metadata": {
        "id": "S_uDFvYKLIne"
      }
    },
    {
      "cell_type": "markdown",
      "source": [
        "### **Задание №1. Работа с многомерными массивами:**\n",
        "   \n"
      ],
      "metadata": {
        "id": "qn-Boi-YZIpm"
      }
    },
    {
      "cell_type": "markdown",
      "source": [
        "а) Создайте трехмерный массив со случайными целыми числами и выполните транспонирование так, чтобы порядок осей стал обратным:"
      ],
      "metadata": {
        "id": "JOXkzj-tZ94e"
      }
    },
    {
      "cell_type": "code",
      "source": [
        "# Ваш код\n",
        "rand_int = np.random.randint(0, 101, size=(3, 4, 5))\n",
        "transposed_array = np.transpose(rand_int, (2, 1, 0))\n",
        "\n",
        "print(\"Исходный трехмерный массив:\\n\", rand_int)\n",
        "print(\"Транспонированный массив с обратным порядком осей:\\n\", transposed_array)"
      ],
      "metadata": {
        "id": "ioFsaDNUZ7ns",
        "colab": {
          "base_uri": "https://localhost:8080/"
        },
        "outputId": "e7825074-dc5b-4033-88ed-4f2d7d0dc16a"
      },
      "execution_count": null,
      "outputs": [
        {
          "output_type": "stream",
          "name": "stdout",
          "text": [
            "Исходный трехмерный массив:\n",
            " [[[57 94 71 83 92]\n",
            "  [99 88 93 45 77]\n",
            "  [52 73 83  1 14]\n",
            "  [62 98 72 18  5]]\n",
            "\n",
            " [[26 46 98 58 26]\n",
            "  [ 5 92 65 14  3]\n",
            "  [27 92 69  8 65]\n",
            "  [66 47 65 98 79]]\n",
            "\n",
            " [[73  0 37 93 49]\n",
            "  [38  9 63 76 51]\n",
            "  [39 34 43 32 39]\n",
            "  [59 65  7 33 62]]]\n",
            "Транспонированный массив с обратным порядком осей:\n",
            " [[[57 26 73]\n",
            "  [99  5 38]\n",
            "  [52 27 39]\n",
            "  [62 66 59]]\n",
            "\n",
            " [[94 46  0]\n",
            "  [88 92  9]\n",
            "  [73 92 34]\n",
            "  [98 47 65]]\n",
            "\n",
            " [[71 98 37]\n",
            "  [93 65 63]\n",
            "  [83 69 43]\n",
            "  [72 65  7]]\n",
            "\n",
            " [[83 58 93]\n",
            "  [45 14 76]\n",
            "  [ 1  8 32]\n",
            "  [18 98 33]]\n",
            "\n",
            " [[92 26 49]\n",
            "  [77  3 51]\n",
            "  [14 65 39]\n",
            "  [ 5 79 62]]]\n"
          ]
        }
      ]
    },
    {
      "cell_type": "markdown",
      "source": [
        "   б) Измените форму массива из предыдущего пункта так, чтобы получился двумерный массив (подумайте, как сохранить данные без потерь):"
      ],
      "metadata": {
        "id": "yKdG54bWZi_c"
      }
    },
    {
      "cell_type": "code",
      "source": [
        "# Ваш код\n",
        "reshaped_ints = np.reshape(rand_int, (10, 6))\n",
        "print(\"Двумерный массив после изменения формы:\\n\", reshaped_ints)"
      ],
      "metadata": {
        "id": "w58gedcvZjVH",
        "colab": {
          "base_uri": "https://localhost:8080/"
        },
        "outputId": "7e9c3780-85df-428c-904b-fa603647966c"
      },
      "execution_count": null,
      "outputs": [
        {
          "output_type": "stream",
          "name": "stdout",
          "text": [
            "Двумерный массив после изменения формы:\n",
            " [[57 94 71 83 92 99]\n",
            " [88 93 45 77 52 73]\n",
            " [83  1 14 62 98 72]\n",
            " [18  5 26 46 98 58]\n",
            " [26  5 92 65 14  3]\n",
            " [27 92 69  8 65 66]\n",
            " [47 65 98 79 73  0]\n",
            " [37 93 49 38  9 63]\n",
            " [76 51 39 34 43 32]\n",
            " [39 59 65  7 33 62]]\n"
          ]
        }
      ]
    },
    {
      "cell_type": "markdown",
      "source": [
        "```python\n",
        "# Входные данные:\n",
        "[\n",
        "  [\n",
        "    [1, 2, 3, 4],\n",
        "    [5, 6, 7, 8],\n",
        "    [9, 10, 11, 12]\n",
        "  ],\n",
        "  [\n",
        "    [13, 14, 15, 16],\n",
        "    [17, 18, 19, 20],\n",
        "    [21, 22, 23, 24]\n",
        "  ]\n",
        "]\n",
        "```\n",
        "\n",
        "\n",
        "```python\n",
        "# Выходные данные:\n",
        "[\n",
        "  [1, 2, 3, 4],\n",
        "  [5, 6, 7, 8],\n",
        "  [9, 10, 11, 12],\n",
        "  [13, 14, 15, 16],\n",
        "  [17, 18, 19, 20],\n",
        "  [21, 22, 23, 24]\n",
        "]\n",
        "```\n"
      ],
      "metadata": {
        "id": "9jZbvNPhkJ87"
      }
    },
    {
      "cell_type": "markdown",
      "source": [
        "### **Задание №2. Маскирование и фильтрация:**\n",
        "   а) Создайте массив со случайными целыми числами от -10 до 10. Затем, используя маскирование, замените все отрицательные числа на 0:\n"
      ],
      "metadata": {
        "id": "uDZ39yoRZLT9"
      }
    },
    {
      "cell_type": "code",
      "source": [
        "# Ваш код\n",
        "arr = np.random.randint(-10, 11, size=20)\n",
        "print('Исходный:\\n',arr)\n",
        "arr[arr < 0] = 0\n",
        "print('Измененный:\\n', arr)"
      ],
      "metadata": {
        "id": "1s_ih9NSaILQ",
        "colab": {
          "base_uri": "https://localhost:8080/"
        },
        "outputId": "f9f0a6da-c011-4529-946b-f796bab87c9d"
      },
      "execution_count": null,
      "outputs": [
        {
          "output_type": "stream",
          "name": "stdout",
          "text": [
            "Исходный:\n",
            " [  7  -1  -4  10  -4   7   2  -8 -10  -5  -9  -6  -1  -3 -10   9   3  -3\n",
            "  -7  10]\n",
            "Измененный:\n",
            " [ 7  0  0 10  0  7  2  0  0  0  0  0  0  0  0  9  3  0  0 10]\n"
          ]
        }
      ]
    },
    {
      "cell_type": "markdown",
      "source": [
        "   б) Создайте двумерный массив и найдите значения, которые больше среднего значения по всему массиву, и замените их на 1:"
      ],
      "metadata": {
        "id": "RIHVtToOZj-g"
      }
    },
    {
      "cell_type": "code",
      "source": [
        "# Ваш код\n",
        "rand = np.random.randint(0, 101, size=(4, 4))\n",
        "print(\"Исходный:\\n\", rand)\n",
        "\n",
        "mean_value = np.mean(random_array)\n",
        "print(\"Среднее:\\n\", mean_value)\n",
        "\n",
        "rand[random_array > mean_value] = 1\n",
        "print(\"Получившийся:\\n\", rand)"
      ],
      "metadata": {
        "id": "qJYIbewpZklS",
        "colab": {
          "base_uri": "https://localhost:8080/"
        },
        "outputId": "7b73f70c-d33a-4f63-e6fc-c4247d76b0a2"
      },
      "execution_count": null,
      "outputs": [
        {
          "output_type": "stream",
          "name": "stdout",
          "text": [
            "Исходный:\n",
            " [[ 46  89  25  65]\n",
            " [ 43  58  67  54]\n",
            " [ 77  94  12  25]\n",
            " [ 29  36 100  27]]\n",
            "Среднее:\n",
            " 39.1875\n",
            "Получившийся:\n",
            " [[ 1 89  1 65]\n",
            " [43  1  1  1]\n",
            " [ 1 94 12 25]\n",
            " [ 1 36  1 27]]\n"
          ]
        }
      ]
    },
    {
      "cell_type": "markdown",
      "source": [
        "### **Задание №3. Агрегирование данных:**\n"
      ],
      "metadata": {
        "id": "jzUTb1UdZPvc"
      }
    },
    {
      "cell_type": "markdown",
      "source": [
        "   а) Создайте двумерный массив со случайными числами. Вычислите сумму, среднее, максимум и минимум по столбцам и строкам:\n"
      ],
      "metadata": {
        "id": "xncfxKXjZnQd"
      }
    },
    {
      "cell_type": "code",
      "source": [
        "# Ваш код\n",
        "rand = np.random.randint(0, 101, size=(4, 4))\n",
        "print(\"Исходный:\\n\", rand)\n",
        "print('По столбцам \\n Сумма:', np.sum(rand, axis=0), '\\n Среднее:', np.mean(rand, axis=0), '\\n Макс:', np.max(rand, axis=0),'\\n Мин:', np.min(rand, axis=0))\n",
        "print('По строкам \\n Сумма:', np.sum(rand, axis=1), '\\n Среднее:', np.mean(rand, axis=1), '\\n Макс:', np.max(rand, axis=1),'\\n Мин:', np.min(rand, axis=1))"
      ],
      "metadata": {
        "id": "Jhd__GiPZons",
        "colab": {
          "base_uri": "https://localhost:8080/"
        },
        "outputId": "a4be559f-8b3b-4d30-84d5-ce69ea836593"
      },
      "execution_count": null,
      "outputs": [
        {
          "output_type": "stream",
          "name": "stdout",
          "text": [
            "Исходный:\n",
            " [[62 87 36 90]\n",
            " [69 99 46 78]\n",
            " [37 21 39 36]\n",
            " [35 69 28 38]]\n",
            "По столбцам \n",
            " Сумма: [203 276 149 242] \n",
            " Среднее: [50.75 69.   37.25 60.5 ] \n",
            " Макс: [69 99 46 90] \n",
            " Мин: [35 21 28 36]\n",
            "По строкам \n",
            " Сумма: [275 292 133 170] \n",
            " Среднее: [68.75 73.   33.25 42.5 ] \n",
            " Макс: [90 99 39 69] \n",
            " Мин: [36 46 21 28]\n"
          ]
        }
      ]
    },
    {
      "cell_type": "markdown",
      "source": [
        "   б) Сгенерируйте массив случайных чисел и найдите дисперсию и стандартное отклонение:"
      ],
      "metadata": {
        "id": "Z1ZQ_12kZndL"
      }
    },
    {
      "cell_type": "code",
      "source": [
        "# Ваш код\n",
        "random_array = np.random.randint(0, 101, size=100)\n",
        "\n",
        "var_val = np.var(random_array)\n",
        "std_dev = np.std(random_array)\n",
        "\n",
        "\n",
        "print(\"Исходный:\\n\",random_array)\n",
        "print(\"Дисперсия:\", var_val)\n",
        "print(\"Стандартное отклонение:\", std_dev)"
      ],
      "metadata": {
        "id": "wn7uuevpZpLX",
        "colab": {
          "base_uri": "https://localhost:8080/"
        },
        "outputId": "beafef86-2154-458a-e7f9-1e092cc7503c"
      },
      "execution_count": null,
      "outputs": [
        {
          "output_type": "stream",
          "name": "stdout",
          "text": [
            "Исходный:\n",
            " [ 90  55   2  92  24  11  10  62  13  43  40  90  58  18  31  77   1  54\n",
            "  73  26  59  52  22  99  19  75  49  66  24  10  18   9  53  44  95  72\n",
            "  66 100  22  34  38  80  77  26  16  83   5  49  96  25  56  73  36  42\n",
            "  13  62  89  21  11   5  88  60  88  85   7  74  17  23  57  85  41  18\n",
            "  18  78  48  54  50  11  27  15  46  67   1  81  90  28  38  28  25  94\n",
            "  46  46  38  15  83  59  87   2  96  84]\n",
            "Дисперсия: 863.1619000000001\n",
            "Стандартное отклонение: 29.379617083958056\n"
          ]
        }
      ]
    },
    {
      "cell_type": "markdown",
      "source": [
        "### **Задание №4. Использование функций для работы с матрицами:**"
      ],
      "metadata": {
        "id": "2EvbQaTIZP4D"
      }
    },
    {
      "cell_type": "markdown",
      "source": [
        "   а) Используйте функцию [`np.linalg.eig`](https://numpy.org/doc/stable/reference/generated/numpy.linalg.eig.html#numpy.linalg.eig) для нахождения собственных значений и собственных векторов квадратной матрицы:"
      ],
      "metadata": {
        "id": "ag7Nzl9LZp23"
      }
    },
    {
      "cell_type": "code",
      "source": [
        "# Ваш код\n",
        "random_matrix = np.random.randint(0, 11, size=(3, 3))\n",
        "eigenvalues, eigenvectors = np.linalg.eig(random_matrix)\n",
        "\n",
        "print(\"Исходная матрица:\\n\", random_matrix)\n",
        "print(\"Собственные значения:\\n\", eigenvalues)\n",
        "print(\"Собственные векторы:\\n\", eigenvectors)"
      ],
      "metadata": {
        "id": "Cbts2xnoZqD8",
        "colab": {
          "base_uri": "https://localhost:8080/"
        },
        "outputId": "ec2909dd-d109-4be9-8594-443040c2e8ca"
      },
      "execution_count": null,
      "outputs": [
        {
          "output_type": "stream",
          "name": "stdout",
          "text": [
            "Исходная матрица:\n",
            " [[ 4  2  5]\n",
            " [ 6 10  0]\n",
            " [10  6  9]]\n",
            "Собственные значения:\n",
            " [-0.57808334 16.40979987  7.16828348]\n",
            "Собственные векторы:\n",
            " [[ 0.7461689  -0.3978442   0.36076167]\n",
            " [-0.42323484 -0.37240869 -0.76440208]\n",
            " [-0.51391074 -0.83846989  0.53435988]]\n"
          ]
        }
      ]
    },
    {
      "cell_type": "markdown",
      "source": [
        "   б) Решите систему линейных уравнений Ax = B, используя `np.linalg.solve`, где A и B — матрицы, заданные вами:"
      ],
      "metadata": {
        "id": "MUsFnJCgZqPV"
      }
    },
    {
      "cell_type": "code",
      "source": [
        "# Ваш код\n",
        "A = np.array([[3, 2, -1],\n",
        "              [2, -2, 4],\n",
        "              [-1, 0.5, -1]])\n",
        "\n",
        "B = np.array([1, -2, 0])\n",
        "x = np.linalg.solve(A, B)\n",
        "\n",
        "print(x)"
      ],
      "metadata": {
        "id": "6OoOaY0CZqaP",
        "colab": {
          "base_uri": "https://localhost:8080/"
        },
        "outputId": "9be040a6-7c3b-4fd3-8b28-5ccb596f6d1e"
      },
      "execution_count": null,
      "outputs": [
        {
          "output_type": "stream",
          "name": "stdout",
          "text": [
            "[ 1. -2. -2.]\n"
          ]
        }
      ]
    },
    {
      "cell_type": "markdown",
      "source": [
        "### **Задание №5. Работа с датасетом:**"
      ],
      "metadata": {
        "id": "UNeCynnjZQCt"
      }
    },
    {
      "cell_type": "markdown",
      "source": [
        "   а) Загрузите датасет [**fetch california housing**](https://www.kaggle.com/datasets/harrywang/housing):"
      ],
      "metadata": {
        "id": "FNVx80zxZrGU"
      }
    },
    {
      "cell_type": "code",
      "source": [
        "import numpy as np\n",
        "from sklearn.datasets import fetch_california_housing\n",
        "\n",
        "dataset = fetch_california_housing().data\n",
        "dataset = np.asarray(dataset, np.float64)"
      ],
      "metadata": {
        "id": "USeYuJeTcIpN"
      },
      "execution_count": null,
      "outputs": []
    },
    {
      "cell_type": "markdown",
      "source": [
        "б) Выведите первые 5 элементов датасета:"
      ],
      "metadata": {
        "id": "Mtk3ZvqmfCD-"
      }
    },
    {
      "cell_type": "code",
      "source": [
        "# Ваш код\n",
        "print(dataset[:5])"
      ],
      "metadata": {
        "id": "T-1eUOl7fHH1",
        "colab": {
          "base_uri": "https://localhost:8080/"
        },
        "outputId": "1295e5d4-cd8e-40c5-cfbb-997cb26c681d"
      },
      "execution_count": null,
      "outputs": [
        {
          "output_type": "stream",
          "name": "stdout",
          "text": [
            "[[ 8.32520000e+00  4.10000000e+01  6.98412698e+00  1.02380952e+00\n",
            "   3.22000000e+02  2.55555556e+00  3.78800000e+01 -1.22230000e+02]\n",
            " [ 8.30140000e+00  2.10000000e+01  6.23813708e+00  9.71880492e-01\n",
            "   2.40100000e+03  2.10984183e+00  3.78600000e+01 -1.22220000e+02]\n",
            " [ 7.25740000e+00  5.20000000e+01  8.28813559e+00  1.07344633e+00\n",
            "   4.96000000e+02  2.80225989e+00  3.78500000e+01 -1.22240000e+02]\n",
            " [ 5.64310000e+00  5.20000000e+01  5.81735160e+00  1.07305936e+00\n",
            "   5.58000000e+02  2.54794521e+00  3.78500000e+01 -1.22250000e+02]\n",
            " [ 3.84620000e+00  5.20000000e+01  6.28185328e+00  1.08108108e+00\n",
            "   5.65000000e+02  2.18146718e+00  3.78500000e+01 -1.22250000e+02]]\n"
          ]
        }
      ]
    },
    {
      "cell_type": "markdown",
      "source": [
        "в) Выведите размерность датасета:"
      ],
      "metadata": {
        "id": "BLJAdC1LeJ1s"
      }
    },
    {
      "cell_type": "code",
      "source": [
        "# Ваш код\n",
        "print(\"Размерность датасета:\", dataset.shape)"
      ],
      "metadata": {
        "id": "s6KvaFj0cLlY",
        "colab": {
          "base_uri": "https://localhost:8080/"
        },
        "outputId": "581fcc1c-0195-4708-bdfd-fe42ff1c4a51"
      },
      "execution_count": null,
      "outputs": [
        {
          "output_type": "stream",
          "name": "stdout",
          "text": [
            "Размерность датасета: (20640, 8)\n"
          ]
        }
      ]
    },
    {
      "cell_type": "markdown",
      "source": [
        "г) Выведите общее количество элементов датасета:"
      ],
      "metadata": {
        "id": "_k_RyEbneb_u"
      }
    },
    {
      "cell_type": "code",
      "source": [
        "# Ваш код\n",
        "print(\"Количество элементов:\", dataset.size)"
      ],
      "metadata": {
        "id": "-4-6azzwcZgx",
        "colab": {
          "base_uri": "https://localhost:8080/"
        },
        "outputId": "fa183865-ca0e-476b-e1c2-e4b8c1bd0cfe"
      },
      "execution_count": null,
      "outputs": [
        {
          "output_type": "stream",
          "name": "stdout",
          "text": [
            "Количество элементов: 165120\n"
          ]
        }
      ]
    },
    {
      "cell_type": "markdown",
      "source": [
        "д) Выведите тип данных элементов датасета:"
      ],
      "metadata": {
        "id": "exMDldCMeoOu"
      }
    },
    {
      "cell_type": "code",
      "source": [
        "# Ваш код\n",
        "print(\"Тип данных элементов массива:\", dataset.dtype)"
      ],
      "metadata": {
        "id": "Re6VGlefe2mp",
        "colab": {
          "base_uri": "https://localhost:8080/"
        },
        "outputId": "c01fe81e-4d5b-4a56-d637-ef71f0a5f12c"
      },
      "execution_count": null,
      "outputs": [
        {
          "output_type": "stream",
          "name": "stdout",
          "text": [
            "Тип данных элементов массива: float64\n"
          ]
        }
      ]
    },
    {
      "cell_type": "markdown",
      "source": [
        "е) Выведите количество измерений (осей) датасета:"
      ],
      "metadata": {
        "id": "-G5DnCl5eoY4"
      }
    },
    {
      "cell_type": "code",
      "source": [
        "# Ваш код\n",
        "print(\"Количество измерений:\", dataset.ndim)"
      ],
      "metadata": {
        "id": "vzMDlJ9je2Cl",
        "colab": {
          "base_uri": "https://localhost:8080/"
        },
        "outputId": "2c402b97-13a6-4426-a430-bfd07f92ab15"
      },
      "execution_count": null,
      "outputs": [
        {
          "output_type": "stream",
          "name": "stdout",
          "text": [
            "Количество измерений: 2\n"
          ]
        }
      ]
    },
    {
      "cell_type": "markdown",
      "source": [
        "ё) Выведите общее количество байт, занимаемых элементами датасета:"
      ],
      "metadata": {
        "id": "5C4KuSG1eoiQ"
      }
    },
    {
      "cell_type": "code",
      "source": [
        "# Ваш код\n",
        "print(\"Общее количество байт:\", dataset.nbytes)"
      ],
      "metadata": {
        "id": "fJ3OCXgufujn",
        "colab": {
          "base_uri": "https://localhost:8080/"
        },
        "outputId": "236859a2-30c2-4f99-82f7-7c89f43b9238"
      },
      "execution_count": null,
      "outputs": [
        {
          "output_type": "stream",
          "name": "stdout",
          "text": [
            "Общее количество байт: 1320960\n"
          ]
        }
      ]
    },
    {
      "cell_type": "markdown",
      "source": [
        "ж) Выведите размер одного элемента датасета в байтах:"
      ],
      "metadata": {
        "id": "Qm7a9tdCftvd"
      }
    },
    {
      "cell_type": "code",
      "source": [
        "# Ваш код\n",
        "print(\"Размер одного элемента в байтах:\", dataset.itemsize)"
      ],
      "metadata": {
        "id": "1VC6YqJIZrRb",
        "colab": {
          "base_uri": "https://localhost:8080/"
        },
        "outputId": "1337f6b7-b5c8-476c-ea95-50313475c513"
      },
      "execution_count": null,
      "outputs": [
        {
          "output_type": "stream",
          "name": "stdout",
          "text": [
            "Размер одного элемента в байтах: 8\n"
          ]
        }
      ]
    },
    {
      "cell_type": "markdown",
      "source": [
        " з) Выполните нормализацию данных в **столбцах**, приведя их к диапазону от 0 до 1, написав для этого отдельную функцию, реализующую алгоритм MinMaxScaler:"
      ],
      "metadata": {
        "id": "SCKdhlineGVl"
      }
    },
    {
      "cell_type": "markdown",
      "source": [
        "Алгоритм MinMaxScaler является методом масштабирования, который линейно преобразует данные так, чтобы они помещались в заданный диапазон, обычно между 0 и 1. Это достигается путем вычитания минимального значения признака из каждого значения, а затем деления разности на размах значений (максимальное значение минус минимальное значение). Преобразование можно выразить следующей формулой:\n",
        "\n",
        "$X_{\\text{scaled}} = \\frac{X - X_{\\min}}{X_{\\max} - X_{\\min}}$\n",
        "\n",
        "Где:\n",
        "- $X$ — исходное значение признака,\n",
        "- $X_{\\min}$ — минимальное значение этого признака в наборе данных,\n",
        "- $X_{\\max}$ — максимальное значение признака в наборе данных,\n",
        "- $X_{\\text{scaled}}$ — масштабированное значение признака.\n",
        "\n",
        "Если требуется масштабировать данные в другой диапазон, например, $[a, b]$, то формула модифицируется:\n",
        "\n",
        "$X_{\\text{scaled}} = a + \\frac{(X - X_{\\min}) \\times (b - a)}{X_{\\max} - X_{\\min}}$"
      ],
      "metadata": {
        "id": "TXJTWqPOgilw"
      }
    },
    {
      "cell_type": "code",
      "source": [
        "# Ваш код\n",
        "def min_max_scaler(X, feature_range=(0, 1)):\n",
        "    a, b = feature_range\n",
        "    Xmin = np.min(X, axis=0)\n",
        "    Xmax = np.max(X, axis=0)\n",
        "\n",
        "    X_scaled = a + (X - Xmin) * (b - a) / (Xmax - Xmin)\n",
        "    return X_scaled\n",
        "\n",
        "data_scaled = min_max_scaler(dataset)\n",
        "print(\"Массив данных после нормализации:\\n\", data_scaled)"
      ],
      "metadata": {
        "id": "-8jxlJozhQT3",
        "colab": {
          "base_uri": "https://localhost:8080/"
        },
        "outputId": "3c552df0-b4d9-4e15-c04f-9a0b38aab78b"
      },
      "execution_count": null,
      "outputs": [
        {
          "output_type": "stream",
          "name": "stdout",
          "text": [
            "Массив данных после нормализации:\n",
            " [[0.53966842 0.78431373 0.0435123  ... 0.00149943 0.5674814  0.21115538]\n",
            " [0.53802706 0.39215686 0.03822395 ... 0.00114074 0.565356   0.21215139]\n",
            " [0.46602805 1.         0.05275646 ... 0.00169796 0.5642933  0.21015936]\n",
            " ...\n",
            " [0.08276438 0.31372549 0.03090386 ... 0.0013144  0.73219979 0.31175299]\n",
            " [0.09429525 0.33333333 0.03178269 ... 0.0011515  0.73219979 0.30179283]\n",
            " [0.13025338 0.29411765 0.03125246 ... 0.00154886 0.72582359 0.30976096]]\n"
          ]
        }
      ]
    },
    {
      "cell_type": "markdown",
      "source": [
        "   и) Используйте логическую индексацию для фильтрации данных по заданному условию (например, выберите все строки, где значение в определённом столбце превышает среднее значение этого столбца и выведите их значение):"
      ],
      "metadata": {
        "id": "CD6Cw3NiZrbb"
      }
    },
    {
      "cell_type": "code",
      "source": [
        "# Ваш код\n",
        "def filter_by_column_mean(X, column_index):\n",
        "    column_mean = np.mean(X[:, column_index])\n",
        "    # выбираем строки, где значение в указанном столбце превышает среднее\n",
        "    filtered_rows = X[X[:, column_index] > column_mean]\n",
        "    return filtered_rows\n",
        "\n",
        "filtered_data = filter_by_column_mean(dataset, column_index=3)\n",
        "print(\"Отфильтрованные строки:\\n\", filtered_data)"
      ],
      "metadata": {
        "id": "ycAl9a4GZrlx",
        "colab": {
          "base_uri": "https://localhost:8080/"
        },
        "outputId": "934a8729-3964-4d72-cb4b-d647d39dd5d4"
      },
      "execution_count": null,
      "outputs": [
        {
          "output_type": "stream",
          "name": "stdout",
          "text": [
            "Отфильтрованные строки:\n",
            " [[   4.0368       52.            4.76165803 ...    2.13989637\n",
            "    37.85       -122.25      ]\n",
            " [   2.0804       42.            4.29411765 ...    2.02689076\n",
            "    37.84       -122.26      ]\n",
            " [   2.6736       52.            4.         ...    1.98275862\n",
            "    37.84       -122.26      ]\n",
            " ...\n",
            " [   1.7          17.            5.20554273 ...    2.3256351\n",
            "    39.43       -121.22      ]\n",
            " [   1.8672       18.            5.32951289 ...    2.12320917\n",
            "    39.43       -121.32      ]\n",
            " [   2.3886       16.            5.25471698 ...    2.61698113\n",
            "    39.37       -121.24      ]]\n"
          ]
        }
      ]
    },
    {
      "cell_type": "markdown",
      "source": [
        "### **Задание №6. Работа с многомерными данными:**"
      ],
      "metadata": {
        "id": "VuTukXmbYwgV"
      }
    },
    {
      "cell_type": "markdown",
      "source": [
        "Создайте двумерный массив и выполните \"сглаживание\" данных, заменив каждый элемент средним значением его и соседних элементов (по сторонам и по диагонали):"
      ],
      "metadata": {
        "id": "H_dh9nV6Zsdi"
      }
    },
    {
      "cell_type": "markdown",
      "source": [
        "\n",
        "\n",
        "```\n",
        "Original Array:\n",
        "[[1 2 3]\n",
        " [4 5 6]\n",
        " [7 8 9]]\n",
        "Smoothed Array:\n",
        "[[3 3 4]\n",
        " [4 5 5]\n",
        " [6 6 7]]\n",
        "```\n",
        "\n"
      ],
      "metadata": {
        "id": "Nvf05EOZNk7T"
      }
    },
    {
      "cell_type": "code",
      "source": [
        "# Ваш код\n",
        "def smooth_array(arr):\n",
        "    # Создаем массив для хранения сглаженных значений\n",
        "    smoothed_arr = np.zeros_like(arr, dtype=float)\n",
        "\n",
        "    # Размеры массива\n",
        "    rows, cols = arr.shape\n",
        "\n",
        "    # Проходим по каждому элементу массива\n",
        "    for i in range(rows):\n",
        "        for j in range(cols):\n",
        "            # Список для хранения значений соседей\n",
        "            neighbors = []\n",
        "\n",
        "            # Добавляем текущий элемент\n",
        "            neighbors.append(arr[i, j])\n",
        "\n",
        "            # Добавляем соседей сверху\n",
        "            if i > 0:\n",
        "                neighbors.append(arr[i-1, j])\n",
        "                if j > 0:\n",
        "                    neighbors.append(arr[i-1, j-1])\n",
        "                if j < cols - 1:\n",
        "                    neighbors.append(arr[i-1, j+1])\n",
        "\n",
        "            # Добавляем соседей снизу\n",
        "            if i < rows - 1:\n",
        "                neighbors.append(arr[i+1, j])\n",
        "                if j > 0:\n",
        "                    neighbors.append(arr[i+1, j-1])\n",
        "                if j < cols - 1:\n",
        "                    neighbors.append(arr[i+1, j+1])\n",
        "\n",
        "            # Добавляем соседей слева и справа\n",
        "            if j > 0:\n",
        "                neighbors.append(arr[i, j-1])\n",
        "            if j < cols - 1:\n",
        "                neighbors.append(arr[i, j+1])\n",
        "\n",
        "            # Вычисляем среднее значение и округляем\n",
        "            smoothed_arr[i, j] = np.floor(np.mean(neighbors))\n",
        "\n",
        "\n",
        "    # Преобразуем массив в целые числа\n",
        "    smoothed_arr = smoothed_arr.astype(int)\n",
        "\n",
        "    return smoothed_arr\n",
        "\n",
        "original_array = np.array([\n",
        "    [1, 2, 3],\n",
        "    [4, 5, 6],\n",
        "    [7, 8, 9]\n",
        "])\n",
        "\n",
        "print(\"Исходный массив:\\n\", original_array)\n",
        "\n",
        "smoothed_array = smooth_array(original_array)\n",
        "print(\"Сглаженный массив:\\n\", smoothed_array)"
      ],
      "metadata": {
        "id": "fNZ_d_pULPU0",
        "colab": {
          "base_uri": "https://localhost:8080/"
        },
        "outputId": "e3bb9550-a7b8-4e34-d616-498e1ca777c1"
      },
      "execution_count": null,
      "outputs": [
        {
          "output_type": "stream",
          "name": "stdout",
          "text": [
            "Исходный массив:\n",
            " [[1 2 3]\n",
            " [4 5 6]\n",
            " [7 8 9]]\n",
            "Сглаженный массив:\n",
            " [[3 3 4]\n",
            " [4 5 5]\n",
            " [6 6 7]]\n"
          ]
        }
      ]
    }
  ]
}